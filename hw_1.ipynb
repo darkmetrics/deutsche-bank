{
 "cells": [
  {
   "cell_type": "markdown",
   "id": "707373ca",
   "metadata": {},
   "source": [
    "### Домашнее задание 1.\n",
    "\n",
    "Автор: Владимир Лозовой.\n",
    "\n",
    "Задачи:\n",
    "1. Функция для NPV\n",
    "2. Функция для IRR\n",
    "3. Функция для перевода из compounding начисления в непрерывное и обратно, на всякий случай"
   ]
  },
  {
   "cell_type": "code",
   "execution_count": 1,
   "id": "772ade97",
   "metadata": {},
   "outputs": [],
   "source": [
    "import pandas as pd\n",
    "import numpy as np\n",
    "import matplotlib.pyplot as plt\n",
    "import seaborn as sns\n",
    "import scipy\n",
    "\n",
    "from typing import Union"
   ]
  },
  {
   "cell_type": "code",
   "execution_count": 29,
   "id": "181c43ed",
   "metadata": {},
   "outputs": [],
   "source": [
    "# на всякий случай написал функцию для конвертации между разными типами начисления\n",
    "def comp_to_cont(r:Union[int, float],\n",
    "                 m:int,\n",
    "                 direction:str='direct'):\n",
    "    \"\"\"Converts compounding annual rate to continious and vice versa\"\"\"\n",
    "    if direction=='direct':\n",
    "        return m * np.log(1+r/m)\n",
    "    return m * (np.exp(r / m) - 1)\n",
    "        \n",
    "    \n",
    "def npv(price: Union[int, float],\n",
    "        face_value: Union[int, float],\n",
    "        coupon: Union[int, float],\n",
    "        frequency: int,\n",
    "        T:int,\n",
    "        r:Union[int, float],\n",
    "        rate_type:str='compounding') -> float:\n",
    "    \"\"\"\n",
    "    Returns NPV of a bond or project.\n",
    "    \n",
    "    Parameters:\n",
    "    -----------\n",
    "    price: int or float.\n",
    "        Price of bond or initial investment into the project.\n",
    "    face_value: int or float.\n",
    "        Face value of bond payed to bondholder at the maturity.\n",
    "    coupon: int or float.\n",
    "        Coupon interest in %. If int, will be divided by 100.\n",
    "    frequency: int.\n",
    "        Coupon frequency, times per year.\n",
    "    T: int.\n",
    "        Years remaining to maturity of the bond.\n",
    "    r: int or float.\n",
    "        Annual discount rate for cash flows. If int, will be divided by 100.\n",
    "    rate_type: str.\n",
    "        Rate type: 'compounding' or 'continious'.\n",
    "    \"\"\"\n",
    "    if isinstance(coupon, int):\n",
    "        coupon = coupon/100\n",
    "    if isinstance(r, int):\n",
    "        r = r/100\n",
    "    \n",
    "    time_factors = np.arange(1/frequency, T+1/frequency, 1/frequency)\n",
    "    \n",
    "    if rate_type=='compounding':\n",
    "        # посчитаем дисконт-факторы    \n",
    "        discount_factors = np.array([1/(1 + r)**x for x in time_factors]) \n",
    "    elif rate_type=='continious':\n",
    "        discount_factors = np.array([np.exp(-x*r) for x in time_factors])\n",
    "        \n",
    "    coupons_pv = np.array([face_value * coupon * x for x in discount_factors])\n",
    "    face_pv = face_value * discount_factors[-1]\n",
    "    return np.add(coupons_pv.sum(), face_pv-price)\n",
    "    \n",
    "\n",
    "def irr(price: Union[int, float],\n",
    "        face_value: Union[int, float],\n",
    "        coupon: Union[int, float],\n",
    "        frequency: int,\n",
    "        T:int,\n",
    "        rate_type:str='compounding') -> float:\n",
    "    \"\"\"\n",
    "    Returns IRR of a bond or project.\n",
    "    \n",
    "    Parameters:\n",
    "    -----------\n",
    "    price: int or float.\n",
    "        Price of bond or initial investment into the project.\n",
    "    face_value: int or float.\n",
    "        Face value of bond payed to bondholder at the maturity.\n",
    "    coupon: int or float.\n",
    "        Coupon interest in %. If int, will be divided by 100.\n",
    "    frequency: int.\n",
    "        Coupon frequency, times per year.\n",
    "    T: int.\n",
    "        Years remaining to maturity of the bond.\n",
    "    rate_type: str.\n",
    "        Rate type: 'compounding' or 'continious'.\n",
    "    \"\"\"\n",
    "    f = lambda x: npv(price, \n",
    "                      face_value,\n",
    "                      coupon,\n",
    "                      frequency,\n",
    "                      T,\n",
    "                      x,\n",
    "                      rate_type)\n",
    "    r = scipy.optimize.root(f, [0])\n",
    "    return r.x[0]"
   ]
  },
  {
   "cell_type": "markdown",
   "id": "8964c90b",
   "metadata": {},
   "source": [
    "Проверим, что все работает."
   ]
  },
  {
   "cell_type": "code",
   "execution_count": 31,
   "id": "7e5b89f4",
   "metadata": {},
   "outputs": [
    {
     "data": {
      "text/plain": [
       "0.0"
      ]
     },
     "execution_count": 31,
     "metadata": {},
     "output_type": "execute_result"
    },
    {
     "data": {
      "text/plain": [
       "12.210216083593096"
      ]
     },
     "execution_count": 31,
     "metadata": {},
     "output_type": "execute_result"
    },
    {
     "data": {
      "text/plain": [
       "0.0999999880111052"
      ]
     },
     "execution_count": 31,
     "metadata": {},
     "output_type": "execute_result"
    }
   ],
   "source": [
    "npv(price=100, \n",
    "    face_value=110, \n",
    "    coupon=0, \n",
    "    frequency=1, \n",
    "    T=1, \n",
    "    r=10, \n",
    "    rate_type='compounding')\n",
    "\n",
    "# теперь посчитаем какой-нибудь бонд посложнее в экселе и посмотрим\n",
    "npv(price=860, \n",
    "    face_value=1000, \n",
    "    coupon=0.01, \n",
    "    # платежи 3 раза в год\n",
    "    frequency=3, \n",
    "    T=2, \n",
    "    r=0.1, \n",
    "    rate_type='continious')\n",
    "\n",
    "irr(price=880.2112, \n",
    "    face_value=1000, \n",
    "    coupon=0.01, \n",
    "    frequency=3, \n",
    "    T=2, \n",
    "    rate_type='compounding')"
   ]
  },
  {
   "cell_type": "markdown",
   "id": "abc89771",
   "metadata": {},
   "source": [
    "Все ответы сошлись, все окей."
   ]
  },
  {
   "cell_type": "code",
   "execution_count": null,
   "id": "930bd80f",
   "metadata": {},
   "outputs": [],
   "source": []
  }
 ],
 "metadata": {
  "kernelspec": {
   "display_name": "Python 3 (ipykernel)",
   "language": "python",
   "name": "python3"
  },
  "language_info": {
   "codemirror_mode": {
    "name": "ipython",
    "version": 3
   },
   "file_extension": ".py",
   "mimetype": "text/x-python",
   "name": "python",
   "nbconvert_exporter": "python",
   "pygments_lexer": "ipython3",
   "version": "3.8.8"
  }
 },
 "nbformat": 4,
 "nbformat_minor": 5
}
