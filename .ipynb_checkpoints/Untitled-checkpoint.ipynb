{
 "cells": [
  {
   "cell_type": "code",
   "execution_count": 41,
   "id": "ec229aed",
   "metadata": {},
   "outputs": [],
   "source": [
    "import numpy as np\n",
    "import pandas as pd\n",
    "import scipy.stats as ss\n",
    "import scipy.optimize as optimize\n",
    "import datetime \n",
    "import matplotlib.pyplot as plt"
   ]
  },
  {
   "cell_type": "markdown",
   "id": "9e281873",
   "metadata": {},
   "source": [
    "Напишем функции для работы с бондами:\n",
    "* расчет доходности к погашению (как и в терминале, будем считать простой процент)\n",
    "* расчет дюрации\n",
    "* перевод обычного процента в сложный и обратно"
   ]
  },
  {
   "cell_type": "code",
   "execution_count": 42,
   "id": "2a4c9d59",
   "metadata": {},
   "outputs": [
    {
     "ename": "AttributeError",
     "evalue": "module 'datetime' has no attribute 'today'",
     "output_type": "error",
     "traceback": [
      "\u001b[0;31m---------------------------------------------------------------------------\u001b[0m",
      "\u001b[0;31mAttributeError\u001b[0m                            Traceback (most recent call last)",
      "\u001b[0;32m/tmp/ipykernel_121/1598287060.py\u001b[0m in \u001b[0;36m<module>\u001b[0;34m\u001b[0m\n\u001b[0;32m----> 1\u001b[0;31m \u001b[0mdatetime\u001b[0m\u001b[0;34m.\u001b[0m\u001b[0mtoday\u001b[0m\u001b[0;34m(\u001b[0m\u001b[0;34m)\u001b[0m\u001b[0;34m\u001b[0m\u001b[0;34m\u001b[0m\u001b[0m\n\u001b[0m",
      "\u001b[0;31mAttributeError\u001b[0m: module 'datetime' has no attribute 'today'"
     ]
    }
   ],
   "source": [
    "datetime.today()"
   ]
  },
  {
   "cell_type": "code",
   "execution_count": 36,
   "id": "6dffe1e6",
   "metadata": {},
   "outputs": [
    {
     "data": {
      "text/plain": [
       "0"
      ]
     },
     "execution_count": 36,
     "metadata": {},
     "output_type": "execute_result"
    }
   ],
   "source": [
    "(datetime.today()- datetime.strptime('2022-03-03', '%Y-%m-%d')).days"
   ]
  },
  {
   "cell_type": "code",
   "execution_count": 55,
   "id": "ea4340c3",
   "metadata": {},
   "outputs": [],
   "source": [
    "from typing import Union\n",
    "from datetime import datetime as dt\n",
    "\n",
    "def ytm(issue_date: Union[datetime.date, str],\n",
    "        maturity_date: Union[datetime.date, str],\n",
    "        coupon: Union[float, int],\n",
    "        par: Union[float, int],\n",
    "        price: Union[float, int],\n",
    "        coupon_freq: Union[float, int]) -> float:\n",
    "    \"\"\"\n",
    "    Returns yield to maturity for bond, interest \n",
    "    \n",
    "    Parameters\n",
    "    ----------\n",
    "    issue_date: datetime.datetime.date or string\n",
    "        Date of bond issuance, format: '%Y-%m-%d'\n",
    "    maturity_date: datetime.datetime.date or string\n",
    "        Date of bond maturity, format: '%Y-%m-%d'\n",
    "    coupon: float or int\n",
    "        Coupon amount\n",
    "    par: float or int\n",
    "        nominal amount\n",
    "    price: float or int\n",
    "        Current market bond price\n",
    "    coupon_freq: float or int\n",
    "        Frequency of coupon payments in days (coupon is paid\n",
    "        every coupon_freq days)\n",
    "    \"\"\"\n",
    "    # convert dates to datetime.datetime.date from strings\n",
    "    if isinstance(issue_date, str):\n",
    "        issue_date = dt.strptime(issue_date, '%Y-%m-%d')\n",
    "        print(issue_date)\n",
    "    if isinstance(maturity_date, str):\n",
    "        maturity_date = dt.strptime(maturity_date, '%Y-%m-%d')\n",
    "        print(maturity_date)\n",
    "        \n",
    "    # generate dates \n",
    "    n_coupons = (maturity_date - issue_date).days //coupon_freq\n",
    "    coupon_dates = [issue_date + datetime.timedelta(days = i * coupon_freq) \\\n",
    "                    for i in range(n_coupons)] \n",
    "    print(coupon_dates)\n",
    "    remaining = [d for d in coupon_dates if d > dt.today()]\n",
    "    n_remaining = len(remaining)\n",
    "    print(remaining)\n",
    "\n",
    "    # generate discount factors\n",
    "    maturity = (maturity_date - dt.today()).days\n",
    "    d = [(i - dt.today()).days / maturity for i in remaining]\n",
    "    print(d)\n",
    "    ytm = (np.log(coupon * n_remaining) + np.log(par)-np.log(price))/sum(d) \n",
    "    \n",
    "    return ytm\n",
    "    \n",
    "    \n",
    "    "
   ]
  },
  {
   "cell_type": "code",
   "execution_count": 56,
   "id": "30317caa",
   "metadata": {},
   "outputs": [
    {
     "data": {
      "text/plain": [
       "datetime.datetime(2022, 3, 3, 21, 0, 5, 509708)"
      ]
     },
     "execution_count": 56,
     "metadata": {},
     "output_type": "execute_result"
    }
   ],
   "source": [
    "dt.today()"
   ]
  },
  {
   "cell_type": "code",
   "execution_count": 57,
   "id": "cb9f8156",
   "metadata": {},
   "outputs": [
    {
     "name": "stdout",
     "output_type": "stream",
     "text": [
      "2022-03-01 00:00:00\n",
      "2022-03-05 00:00:00\n",
      "[datetime.datetime(2022, 3, 1, 0, 0), datetime.datetime(2022, 3, 2, 0, 0), datetime.datetime(2022, 3, 3, 0, 0), datetime.datetime(2022, 3, 4, 0, 0)]\n",
      "[datetime.datetime(2022, 3, 4, 0, 0)]\n",
      "[0.0]\n"
     ]
    },
    {
     "name": "stderr",
     "output_type": "stream",
     "text": [
      "/tmp/ipykernel_121/3783316507.py:50: RuntimeWarning: invalid value encountered in double_scalars\n",
      "  ytm = (np.log(coupon * n_remaining) + np.log(par)-np.log(price))/sum(d)\n"
     ]
    }
   ],
   "source": [
    "test = ytm(issue_date='2022-03-01',\n",
    "           maturity_date='2022-03-05',\n",
    "           coupon=1,\n",
    "          coupon_freq=1,\n",
    "          par=100, \n",
    "          price=100)"
   ]
  },
  {
   "cell_type": "code",
   "execution_count": 58,
   "id": "78790807",
   "metadata": {},
   "outputs": [
    {
     "data": {
      "text/plain": [
       "nan"
      ]
     },
     "execution_count": 58,
     "metadata": {},
     "output_type": "execute_result"
    }
   ],
   "source": [
    "test"
   ]
  },
  {
   "cell_type": "code",
   "execution_count": null,
   "id": "97a83b42",
   "metadata": {},
   "outputs": [],
   "source": []
  }
 ],
 "metadata": {
  "kernelspec": {
   "display_name": "Python 3 (ipykernel)",
   "language": "python",
   "name": "python3"
  },
  "language_info": {
   "codemirror_mode": {
    "name": "ipython",
    "version": 3
   },
   "file_extension": ".py",
   "mimetype": "text/x-python",
   "name": "python",
   "nbconvert_exporter": "python",
   "pygments_lexer": "ipython3",
   "version": "3.8.10"
  }
 },
 "nbformat": 4,
 "nbformat_minor": 5
}
